{
 "cells": [
  {
   "cell_type": "code",
   "execution_count": 1,
   "metadata": {},
   "outputs": [
    {
     "name": "stdout",
     "output_type": "stream",
     "text": [
      "[(1, 'test', 'test@test.test', '123456789', 18, 70.0, 180.0, 'male', 'superman', 'https://static.javatpoint.com/computer/images/what-is-the-url.png')]\n"
     ]
    }
   ],
   "source": [
    "import mysql.connector\n",
    "class Database:\n",
    "    def __init__(self):\n",
    "        self.connection = mysql.connector.connect(user='SeniorDeveloper', password='134697825/*-qweQWE', host='food-app-server.mysql.database.azure.com', database='FoodTracker')\n",
    "        self.cursor = self.connection.cursor()\n",
    "\n",
    "    def query(self, sql):\n",
    "        self.cursor.execute(sql)\n",
    "        result = self.cursor.fetchall()\n",
    "        return result\n",
    "\n",
    "    def close(self):\n",
    "        self.cursor.close()\n",
    "        self.connection.close()\n",
    "\n",
    "# Example usage:\n",
    "db = Database()\n",
    "result = db.query('SELECT * FROM USERS')\n",
    "print(result)\n",
    "db.close()"
   ]
  },
  {
   "cell_type": "code",
   "execution_count": null,
   "metadata": {},
   "outputs": [],
   "source": []
  }
 ],
 "metadata": {
  "kernelspec": {
   "display_name": "base",
   "language": "python",
   "name": "python3"
  },
  "language_info": {
   "codemirror_mode": {
    "name": "ipython",
    "version": 3
   },
   "file_extension": ".py",
   "mimetype": "text/x-python",
   "name": "python",
   "nbconvert_exporter": "python",
   "pygments_lexer": "ipython3",
   "version": "3.9.13 (main, Aug 25 2022, 23:51:50) [MSC v.1916 64 bit (AMD64)]"
  },
  "orig_nbformat": 4,
  "vscode": {
   "interpreter": {
    "hash": "009398bf9be23d493b7b44a6bcfef4c89cf361a9155ea22c3da35780fe0e3832"
   }
  }
 },
 "nbformat": 4,
 "nbformat_minor": 2
}
