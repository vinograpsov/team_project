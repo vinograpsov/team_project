{
 "cells": [
  {
   "cell_type": "code",
   "execution_count": 1,
   "metadata": {},
   "outputs": [],
   "source": [
    "import mysql.connector\n",
    "from mysql.connector import errorcode"
   ]
  },
  {
   "cell_type": "code",
   "execution_count": 10,
   "metadata": {},
   "outputs": [],
   "source": [
    "class Database(object):\n",
    " \n",
    "  def __init__(self):\n",
    "    self.cursor = None\n",
    "\n",
    "  def connection(self,username,password,hostname,database,ip): \n",
    "      config = {\n",
    "        'host':hostname,\n",
    "        'user':username,\n",
    "        'password':password,\n",
    "        'database': database\n",
    "      }\n",
    "      try:\n",
    "         conn = mysql.connector.connect(**config)\n",
    "         print(\"Connection established\")\n",
    "      except mysql.connector.Error as err:\n",
    "        if err.errno == errorcode.ER_ACCESS_DENIED_ERROR:\n",
    "          print(\"Something is wrong with the user name or password\")\n",
    "        elif err.errno == errorcode.ER_BAD_DB_ERROR:\n",
    "          print(\"Database does not exist\")\n",
    "        else:\n",
    "          print(err)\n",
    "      else:\n",
    "        return conn.cursor()        \n",
    "  \n",
    "\n",
    "  def disconnect(self):\n",
    "    conn.commit()\n",
    "    self.cursor.close()\n",
    "    conn.close()\n",
    "    print(\"Done.\")\n",
    "\n",
    "  \n",
    "  # class Insert(object):\n",
    "  #   def __init__(self,outer) -> None:\n",
    "  #     self.outer = outer\n",
    "\n",
    "  def insert_user(self,username,email,usr_password,age,weight,height,sex,activity_level,img_url):\n",
    "    self.cursor.execute(\"insert into users (username,email,usr_password,age,weight,height,sex,activity_level,img_url) values (%s,%s,%s,%s,%s,%s,%s,%s,%s);\", \n",
    "    (username,email,usr_password,age,weight,height,sex,activity_level,img_url))\n",
    "    print(\"Inserted\",self.cursor.rowcount,\"row(s) of data.\")\n",
    "\n",
    "  def insert_recipe(self,user_id,name,recepe_text,rate,annotation,img_url):\n",
    "    self.cursor.execute(\"insert into recipes(user_id,name,recepe_text,rate,annotation,img_url) values(%s,%s,%s,%s,%s,%s);\",\n",
    "    (user_id,name,recepe_text,rate,annotation,img_url))\n",
    "    print(\"Inserted\",self.cursor.rowcount,\"row(s) of data.\")\n",
    "\n",
    "  def insert_product(self,user_id,product_name,calories,protein,fat,carbohydrates,barcode,img_url):\n",
    "    username = \"SeniorDeveloper\"\n",
    "    password = \"134697825/*-qweQWE\"\n",
    "    ip = \"87.246.193.76\"\n",
    "    hostname = \"food-app-server.mysql.database.azure.com\"\n",
    "    ssl_mode = \"require\"\n",
    "    database = \"FoodTracker\"\n",
    "    self.cursor = self.connection(username,password,hostname,database,ip)\n",
    "    self.cursor.execute(\"insert into products(user_id,product_name,calories,protein,fat,carbohydrates,barcode,img_url) values(%s,%s,%s,%s,%s,%s,%s,%s);\",\n",
    "    (user_id,product_name,calories,protein,fat,carbohydrates,barcode,img_url))\n",
    "    print(\"Inserted\",self.cursor.rowcount,\"row(s) of data.\")\n",
    "\n",
    "  def insert_recipe_product(self,product_id,recipe_id):\n",
    "    self.cursor.execute(\"insert into recipes_products(product_id,recipe_id) values(%s,%s);\",\n",
    "    (product_id,recipe_id))\n",
    "    print(\"Inserted\",self.cursor.rowcount,\"row(s) of data.\")\n",
    "\n",
    "  def insert_fridge(self,product_id,user_id,location,expire_data,weight,how_much):\n",
    "    self.cursor.execute(\"insert into fridge(product_id,user_id,location,expire_data,weight,how_much) values(%s,%s,%s,%s,%s,%s);\",\n",
    "    (product_id,user_id,location,expire_data,weight,how_much))\n",
    "    print(\"Inserted\",self.cursor.rowcount,\"row(s) of data.\")\n",
    "\n",
    "  def insert_finance(self,user_id,cost_type,money_spend,date_of_buy):\n",
    "    self.cursor.execute(\"insert into finances(user_id,cost_type,money_spend,date_of_buy) values(%s,%s,%s,%s);\",\n",
    "    (user_id,cost_type,money_spend,date_of_buy))\n",
    "    print(\"Inserted\",self.cursor.rowcount,\"row(s) of data.\")\n",
    "    \n",
    "  def insert_element(self,user_id,date_usr,calories,protein,fat,carbohydrates):\n",
    "    self.cursor.execute(\"insert into elements(user_id,date_usr,calories,protein,fat,carbohydrates) values(%s,%s,%s,%s,%s,%s);\",\n",
    "    (user_id,date_usr,calories,protein,fat,carbohydrates))\n",
    "    print(\"Inserted\",self.cursor.rowcount,\"row(s) of data.\")\n",
    "\n",
    "  class Update:\n",
    "    pass\n",
    "\n",
    "  class Select:\n",
    "  \n",
    "    def __init__(self,outer) -> None:\n",
    "      self.outer = outer\n",
    "\n",
    "\n",
    "    \n",
    "    \n",
    "    class All:\n",
    "      def users(self):\n",
    "        cursor.execute(\"SELECT * FROM USERS;\")\n",
    "        return cursor.fetchall()\n",
    "      def elements(self):\n",
    "        cursor.execute(\"SELECT * FROM ELEMENTS;\")\n",
    "        return cursor.fetchall()\n",
    "      def fridges(self):\n",
    "        cursor.execute(\"SELECT * FROM FRIDGE;\")\n",
    "        return cursor.fetchall()\n",
    "      def product(self):\n",
    "        cursor.execute(\"SELECT * FROM PRODUCTS;\")\n",
    "        return cursor.fetchall()\n",
    "      def recipe(self):\n",
    "        cursor.execute(\"SELECT * FROM RECIPES;\")\n",
    "        return cursor.fetchall()\n",
    "      def finance(self):\n",
    "        cursor.execute(\"SELECT * FROM FINANCES;\")\n",
    "        return cursor.fetchall(self)\n",
    "      def recipes_products(self):\n",
    "        cursor.execute(\"SELECT * FROM RECIPES_PRODUCTS;\")\n",
    "        return cursor.fetchall(self)\n",
    "    \n",
    "    class User:\n",
    "      def id(username):\n",
    "        pass\n",
    "      def pass_data(username):\n",
    "        pass\n",
    "      def frige(username):\n",
    "        pass\n",
    "      def products(username):\n",
    "        pass\n",
    "      def recepes(username):\n",
    "        pass\n",
    "      def element(username):\n",
    "        pass\n",
    "    \n",
    "\n",
    "    class Products:\n",
    "      pass\n",
    "\n",
    "    class Recepes:\n",
    "      pass\n",
    "\n",
    "\n"
   ]
  },
  {
   "cell_type": "code",
   "execution_count": 11,
   "metadata": {},
   "outputs": [
    {
     "name": "stdout",
     "output_type": "stream",
     "text": [
      "Connection established\n"
     ]
    },
    {
     "data": {
      "text/plain": [
       "<mysql.connector.cursor.MySQLCursor at 0x1d78b80d408>"
      ]
     },
     "execution_count": 11,
     "metadata": {},
     "output_type": "execute_result"
    }
   ],
   "source": [
    "username = \"SeniorDeveloper\"\n",
    "password = \"134697825/*-qweQWE\"\n",
    "ip = \"87.246.193.76\"\n",
    "hostname = \"food-app-server.mysql.database.azure.com\"\n",
    "ssl_mode = \"require\"\n",
    "database = \"FoodTracker\"\n",
    "adsf = Database()\n",
    "adsf.connection(username,password,hostname,database,ip)\n"
   ]
  },
  {
   "cell_type": "code",
   "execution_count": 12,
   "metadata": {},
   "outputs": [
    {
     "name": "stdout",
     "output_type": "stream",
     "text": [
      "Connection established\n"
     ]
    },
    {
     "ename": "ReferenceError",
     "evalue": "weakly-referenced object no longer exists",
     "output_type": "error",
     "traceback": [
      "\u001b[1;31m---------------------------------------------------------------------------\u001b[0m",
      "\u001b[1;31mReferenceError\u001b[0m                            Traceback (most recent call last)",
      "\u001b[1;32m~\\AppData\\Local\\Temp\\ipykernel_29052\\3043405092.py\u001b[0m in \u001b[0;36m<module>\u001b[1;34m\u001b[0m\n\u001b[1;32m----> 1\u001b[1;33m \u001b[0madsf\u001b[0m\u001b[1;33m.\u001b[0m\u001b[0minsert_product\u001b[0m\u001b[1;33m(\u001b[0m\u001b[1;32mNone\u001b[0m\u001b[1;33m,\u001b[0m\u001b[1;34m\"test product\"\u001b[0m\u001b[1;33m,\u001b[0m \u001b[1;36m1111\u001b[0m\u001b[1;33m,\u001b[0m\u001b[1;36m11\u001b[0m\u001b[1;33m,\u001b[0m\u001b[1;36m11\u001b[0m\u001b[1;33m,\u001b[0m\u001b[1;32mNone\u001b[0m\u001b[1;33m,\u001b[0m\u001b[1;34m\"0101010101110\"\u001b[0m\u001b[1;33m,\u001b[0m \u001b[1;34m\"http//blabla.com\"\u001b[0m\u001b[1;33m)\u001b[0m\u001b[1;33m\u001b[0m\u001b[1;33m\u001b[0m\u001b[0m\n\u001b[0m\u001b[0;32m      2\u001b[0m \u001b[0muser_id\u001b[0m\u001b[1;33m,\u001b[0m\u001b[0mproduct_name\u001b[0m\u001b[1;33m,\u001b[0m\u001b[0mcalories\u001b[0m\u001b[1;33m,\u001b[0m\u001b[0mprotein\u001b[0m\u001b[1;33m,\u001b[0m\u001b[0mfat\u001b[0m\u001b[1;33m,\u001b[0m\u001b[0mcarbohydrates\u001b[0m\u001b[1;33m,\u001b[0m\u001b[0mbarcode\u001b[0m\u001b[1;33m,\u001b[0m\u001b[0mimg_url\u001b[0m\u001b[1;33m\u001b[0m\u001b[1;33m\u001b[0m\u001b[0m\n",
      "\u001b[1;32m~\\AppData\\Local\\Temp\\ipykernel_29052\\348898625.py\u001b[0m in \u001b[0;36minsert_product\u001b[1;34m(self, user_id, product_name, calories, protein, fat, carbohydrates, barcode, img_url)\u001b[0m\n\u001b[0;32m     55\u001b[0m     \u001b[0mself\u001b[0m\u001b[1;33m.\u001b[0m\u001b[0mcursor\u001b[0m \u001b[1;33m=\u001b[0m \u001b[0mself\u001b[0m\u001b[1;33m.\u001b[0m\u001b[0mconnection\u001b[0m\u001b[1;33m(\u001b[0m\u001b[0musername\u001b[0m\u001b[1;33m,\u001b[0m\u001b[0mpassword\u001b[0m\u001b[1;33m,\u001b[0m\u001b[0mhostname\u001b[0m\u001b[1;33m,\u001b[0m\u001b[0mdatabase\u001b[0m\u001b[1;33m,\u001b[0m\u001b[0mip\u001b[0m\u001b[1;33m)\u001b[0m\u001b[1;33m\u001b[0m\u001b[1;33m\u001b[0m\u001b[0m\n\u001b[0;32m     56\u001b[0m     self.cursor.execute(\"insert into products(user_id,product_name,calories,protein,fat,carbohydrates,barcode,img_url) values(%s,%s,%s,%s,%s,%s,%s,%s);\",\n\u001b[1;32m---> 57\u001b[1;33m     (user_id,product_name,calories,protein,fat,carbohydrates,barcode,img_url))\n\u001b[0m\u001b[0;32m     58\u001b[0m     \u001b[0mprint\u001b[0m\u001b[1;33m(\u001b[0m\u001b[1;34m\"Inserted\"\u001b[0m\u001b[1;33m,\u001b[0m\u001b[0mself\u001b[0m\u001b[1;33m.\u001b[0m\u001b[0mcursor\u001b[0m\u001b[1;33m.\u001b[0m\u001b[0mrowcount\u001b[0m\u001b[1;33m,\u001b[0m\u001b[1;34m\"row(s) of data.\"\u001b[0m\u001b[1;33m)\u001b[0m\u001b[1;33m\u001b[0m\u001b[1;33m\u001b[0m\u001b[0m\n\u001b[0;32m     59\u001b[0m \u001b[1;33m\u001b[0m\u001b[0m\n",
      "\u001b[1;32me:\\anaconda_python\\envs\\py37\\lib\\site-packages\\mysql\\connector\\cursor.py\u001b[0m in \u001b[0;36mexecute\u001b[1;34m(self, operation, params, multi)\u001b[0m\n\u001b[0;32m    534\u001b[0m             \u001b[1;32mreturn\u001b[0m \u001b[1;32mNone\u001b[0m\u001b[1;33m\u001b[0m\u001b[1;33m\u001b[0m\u001b[0m\n\u001b[0;32m    535\u001b[0m \u001b[1;33m\u001b[0m\u001b[0m\n\u001b[1;32m--> 536\u001b[1;33m         \u001b[1;32mif\u001b[0m \u001b[1;32mnot\u001b[0m \u001b[0mself\u001b[0m\u001b[1;33m.\u001b[0m\u001b[0m_connection\u001b[0m\u001b[1;33m:\u001b[0m\u001b[1;33m\u001b[0m\u001b[1;33m\u001b[0m\u001b[0m\n\u001b[0m\u001b[0;32m    537\u001b[0m             \u001b[1;32mraise\u001b[0m \u001b[0merrors\u001b[0m\u001b[1;33m.\u001b[0m\u001b[0mProgrammingError\u001b[0m\u001b[1;33m(\u001b[0m\u001b[1;34m\"Cursor is not connected\"\u001b[0m\u001b[1;33m)\u001b[0m\u001b[1;33m\u001b[0m\u001b[1;33m\u001b[0m\u001b[0m\n\u001b[0;32m    538\u001b[0m \u001b[1;33m\u001b[0m\u001b[0m\n",
      "\u001b[1;31mReferenceError\u001b[0m: weakly-referenced object no longer exists"
     ]
    }
   ],
   "source": [
    "adsf.insert_product(None,\"test product\", 1111,11,11,None,\"0101010101110\", \"http//blabla.com\")\n",
    "user_id,product_name,calories,protein,fat,carbohydrates,barcode,img_url"
   ]
  },
  {
   "cell_type": "code",
   "execution_count": 71,
   "metadata": {},
   "outputs": [
    {
     "name": "stdout",
     "output_type": "stream",
     "text": [
      "1\n"
     ]
    }
   ],
   "source": [
    "class Outer(object):\n",
    "    def __init__(self):\n",
    "        self.outer_var = 1\n",
    "\n",
    "    def get_inner_object(self):\n",
    "        return self.Inner(self)\n",
    "\n",
    "    class Inner(object):\n",
    "        def __init__(self, outer):\n",
    "            self.outer = outer\n",
    "            print(self.outer.outer_var)\n",
    "\n",
    "        @property\n",
    "        def inner_var(self):\n",
    "            return self.outer.outer_var\n",
    "\n",
    "outer_object = Outer()\n",
    "inner_object = outer_object.get_inner_object()\n",
    "\n",
    "# print(inner_object.inner_var)"
   ]
  },
  {
   "cell_type": "code",
   "execution_count": 82,
   "metadata": {},
   "outputs": [
    {
     "name": "stdout",
     "output_type": "stream",
     "text": [
      "Outer Class Variable\n"
     ]
    }
   ],
   "source": [
    "class OuterClass:\n",
    "    variable = \"Outer Class Variable\"\n",
    "    \n",
    "    class InnerClass:\n",
    "        def __init__(self, outer_instance):\n",
    "            self.outer_instance = outer_instance\n",
    "        \n",
    "        def display_variable(self):\n",
    "            print(self.outer_instance.variable)\n",
    "\n",
    "ou\n",
    "inner_object = outer_object.InnerClass(outer_object).display_variable\n",
    "inner_object.display_variable()"
   ]
  },
  {
   "cell_type": "code",
   "execution_count": 83,
   "metadata": {},
   "outputs": [
    {
     "name": "stdout",
     "output_type": "stream",
     "text": [
      "Outer variable: Outer variable value\n"
     ]
    }
   ],
   "source": [
    "class OuterClass:\n",
    "    class InnerClass1:\n",
    "        class InnerClass2:\n",
    "            def __init__(self, outer):\n",
    "                self.outer = outer\n",
    "\n",
    "            def innerClass2Method(self):\n",
    "                print(f\"Outer variable: {self.outer.outerVariable}\")\n",
    "                \n",
    "    def __init__(self):\n",
    "        self.outerVariable = \"Outer variable value\"\n",
    "\n",
    "OuterClass().InnerClass1.InnerClass2(OuterClass()).innerClass2Method()"
   ]
  },
  {
   "cell_type": "code",
   "execution_count": 13,
   "metadata": {},
   "outputs": [
    {
     "ename": "NameError",
     "evalue": "name 'OuterClass' is not defined",
     "output_type": "error",
     "traceback": [
      "\u001b[1;31m---------------------------------------------------------------------------\u001b[0m",
      "\u001b[1;31mNameError\u001b[0m                                 Traceback (most recent call last)",
      "\u001b[1;32m~\\AppData\\Local\\Temp\\ipykernel_29052\\3413091364.py\u001b[0m in \u001b[0;36m<module>\u001b[1;34m\u001b[0m\n\u001b[1;32m----> 1\u001b[1;33m \u001b[0mtest\u001b[0m \u001b[1;33m=\u001b[0m \u001b[0mOuterClass\u001b[0m\u001b[1;33m(\u001b[0m\u001b[1;33m)\u001b[0m\u001b[1;33m\u001b[0m\u001b[1;33m\u001b[0m\u001b[0m\n\u001b[0m\u001b[0;32m      2\u001b[0m \u001b[0mtest\u001b[0m\u001b[1;33m.\u001b[0m\u001b[0mInnerClass1\u001b[0m\u001b[1;33m.\u001b[0m\u001b[0mInnerClass2\u001b[0m\u001b[1;33m\u001b[0m\u001b[1;33m\u001b[0m\u001b[0m\n",
      "\u001b[1;31mNameError\u001b[0m: name 'OuterClass' is not defined"
     ]
    }
   ],
   "source": [
    "test = OuterClass()\n",
    "test.InnerClass1.InnerClass2"
   ]
  },
  {
   "cell_type": "code",
   "execution_count": 14,
   "metadata": {},
   "outputs": [
    {
     "name": "stdout",
     "output_type": "stream",
     "text": [
      "Connection established\n"
     ]
    },
    {
     "ename": "ReferenceError",
     "evalue": "weakly-referenced object no longer exists",
     "output_type": "error",
     "traceback": [
      "\u001b[1;31m---------------------------------------------------------------------------\u001b[0m",
      "\u001b[1;31mReferenceError\u001b[0m                            Traceback (most recent call last)",
      "\u001b[1;32m~\\AppData\\Local\\Temp\\ipykernel_29052\\4028745993.py\u001b[0m in \u001b[0;36m<module>\u001b[1;34m\u001b[0m\n\u001b[0;32m      1\u001b[0m \u001b[0mcursor\u001b[0m \u001b[1;33m=\u001b[0m \u001b[0madsf\u001b[0m\u001b[1;33m.\u001b[0m\u001b[0mconnection\u001b[0m\u001b[1;33m(\u001b[0m\u001b[0musername\u001b[0m\u001b[1;33m,\u001b[0m\u001b[0mpassword\u001b[0m\u001b[1;33m,\u001b[0m\u001b[0mhostname\u001b[0m\u001b[1;33m,\u001b[0m\u001b[0mdatabase\u001b[0m\u001b[1;33m,\u001b[0m\u001b[0mip\u001b[0m\u001b[1;33m)\u001b[0m\u001b[1;33m\u001b[0m\u001b[1;33m\u001b[0m\u001b[0m\n\u001b[1;32m----> 2\u001b[1;33m \u001b[0mcursor\u001b[0m\u001b[1;33m.\u001b[0m\u001b[0mexecute\u001b[0m\u001b[1;33m(\u001b[0m\u001b[1;34m\"SELECT * FROM USERS;\"\u001b[0m\u001b[1;33m)\u001b[0m\u001b[1;33m\u001b[0m\u001b[1;33m\u001b[0m\u001b[0m\n\u001b[0m",
      "\u001b[1;32me:\\anaconda_python\\envs\\py37\\lib\\site-packages\\mysql\\connector\\cursor.py\u001b[0m in \u001b[0;36mexecute\u001b[1;34m(self, operation, params, multi)\u001b[0m\n\u001b[0;32m    534\u001b[0m             \u001b[1;32mreturn\u001b[0m \u001b[1;32mNone\u001b[0m\u001b[1;33m\u001b[0m\u001b[1;33m\u001b[0m\u001b[0m\n\u001b[0;32m    535\u001b[0m \u001b[1;33m\u001b[0m\u001b[0m\n\u001b[1;32m--> 536\u001b[1;33m         \u001b[1;32mif\u001b[0m \u001b[1;32mnot\u001b[0m \u001b[0mself\u001b[0m\u001b[1;33m.\u001b[0m\u001b[0m_connection\u001b[0m\u001b[1;33m:\u001b[0m\u001b[1;33m\u001b[0m\u001b[1;33m\u001b[0m\u001b[0m\n\u001b[0m\u001b[0;32m    537\u001b[0m             \u001b[1;32mraise\u001b[0m \u001b[0merrors\u001b[0m\u001b[1;33m.\u001b[0m\u001b[0mProgrammingError\u001b[0m\u001b[1;33m(\u001b[0m\u001b[1;34m\"Cursor is not connected\"\u001b[0m\u001b[1;33m)\u001b[0m\u001b[1;33m\u001b[0m\u001b[1;33m\u001b[0m\u001b[0m\n\u001b[0;32m    538\u001b[0m \u001b[1;33m\u001b[0m\u001b[0m\n",
      "\u001b[1;31mReferenceError\u001b[0m: weakly-referenced object no longer exists"
     ]
    }
   ],
   "source": [
    "cursor = adsf.connection(username,password,hostname,database,ip)\n",
    "cursor.execute(\"SELECT * FROM USERS;\")"
   ]
  },
  {
   "cell_type": "code",
   "execution_count": 27,
   "metadata": {},
   "outputs": [],
   "source": [
    "class Database(object):\n",
    " \n",
    "  def __init__(self,username,password,hostname,database,ip) -> None:\n",
    "      self.username = username\n",
    "      self.password = password\n",
    "      self.hostname = hostname\n",
    "      self.database= database\n",
    "      self.ip = ip\n",
    "      config = {\n",
    "        'host':self.hostname,\n",
    "        'user':self.username,\n",
    "        'password':self.password,\n",
    "        'database': self.database\n",
    "      }\n",
    "      try:\n",
    "         self.connection = mysql.connector.connect(**config)\n",
    "         self.cursor = self.connection.cursor()\n",
    "         print(\"Connection established\")\n",
    "      except mysql.connector.Error as err:\n",
    "        if err.errno == errorcode.ER_ACCESS_DENIED_ERROR:\n",
    "          print(\"Something is wrong with the user name or password\")\n",
    "        elif err.errno == errorcode.ER_BAD_DB_ERROR:\n",
    "          print(\"Database does not exist\")\n",
    "        else:\n",
    "          print(err)\n",
    "        \n",
    "\n",
    "\n",
    "  def users(self):\n",
    "        self.cursor.execute(\"SELECT * FROM USERS;\")\n",
    "        return cursor.fetchall()        \n"
   ]
  },
  {
   "cell_type": "code",
   "execution_count": 28,
   "metadata": {},
   "outputs": [
    {
     "name": "stdout",
     "output_type": "stream",
     "text": [
      "Connection established\n"
     ]
    }
   ],
   "source": [
    "username = \"SeniorDeveloper\"\n",
    "password = \"134697825/*-qweQWE\"\n",
    "ip = \"87.246.193.76\"\n",
    "hostname = \"food-app-server.mysql.database.azure.com\"\n",
    "ssl_mode = \"require\"\n",
    "database = \"FoodTracker\"\n",
    "adsf = Database(username,password,hostname,database,ip)"
   ]
  },
  {
   "cell_type": "code",
   "execution_count": 29,
   "metadata": {},
   "outputs": [
    {
     "ename": "ReferenceError",
     "evalue": "weakly-referenced object no longer exists",
     "output_type": "error",
     "traceback": [
      "\u001b[1;31m---------------------------------------------------------------------------\u001b[0m",
      "\u001b[1;31mReferenceError\u001b[0m                            Traceback (most recent call last)",
      "\u001b[1;32m~\\AppData\\Local\\Temp\\ipykernel_29052\\3649798444.py\u001b[0m in \u001b[0;36m<module>\u001b[1;34m\u001b[0m\n\u001b[1;32m----> 1\u001b[1;33m \u001b[0madsf\u001b[0m\u001b[1;33m.\u001b[0m\u001b[0musers\u001b[0m\u001b[1;33m(\u001b[0m\u001b[1;33m)\u001b[0m\u001b[1;33m\u001b[0m\u001b[1;33m\u001b[0m\u001b[0m\n\u001b[0m",
      "\u001b[1;32m~\\AppData\\Local\\Temp\\ipykernel_29052\\3884281607.py\u001b[0m in \u001b[0;36musers\u001b[1;34m(self)\u001b[0m\n\u001b[0;32m     29\u001b[0m   \u001b[1;32mdef\u001b[0m \u001b[0musers\u001b[0m\u001b[1;33m(\u001b[0m\u001b[0mself\u001b[0m\u001b[1;33m)\u001b[0m\u001b[1;33m:\u001b[0m\u001b[1;33m\u001b[0m\u001b[1;33m\u001b[0m\u001b[0m\n\u001b[0;32m     30\u001b[0m         \u001b[0mself\u001b[0m\u001b[1;33m.\u001b[0m\u001b[0mcursor\u001b[0m\u001b[1;33m.\u001b[0m\u001b[0mexecute\u001b[0m\u001b[1;33m(\u001b[0m\u001b[1;34m\"SELECT * FROM USERS;\"\u001b[0m\u001b[1;33m)\u001b[0m\u001b[1;33m\u001b[0m\u001b[1;33m\u001b[0m\u001b[0m\n\u001b[1;32m---> 31\u001b[1;33m         \u001b[1;32mreturn\u001b[0m \u001b[0mcursor\u001b[0m\u001b[1;33m.\u001b[0m\u001b[0mfetchall\u001b[0m\u001b[1;33m(\u001b[0m\u001b[1;33m)\u001b[0m\u001b[1;33m\u001b[0m\u001b[1;33m\u001b[0m\u001b[0m\n\u001b[0m",
      "\u001b[1;32me:\\anaconda_python\\envs\\py37\\lib\\site-packages\\mysql\\connector\\cursor.py\u001b[0m in \u001b[0;36mfetchall\u001b[1;34m(self)\u001b[0m\n\u001b[0;32m    892\u001b[0m \u001b[1;33m\u001b[0m\u001b[0m\n\u001b[0;32m    893\u001b[0m     \u001b[1;32mdef\u001b[0m \u001b[0mfetchall\u001b[0m\u001b[1;33m(\u001b[0m\u001b[0mself\u001b[0m\u001b[1;33m)\u001b[0m\u001b[1;33m:\u001b[0m\u001b[1;33m\u001b[0m\u001b[1;33m\u001b[0m\u001b[0m\n\u001b[1;32m--> 894\u001b[1;33m         \u001b[1;32mif\u001b[0m \u001b[1;32mnot\u001b[0m \u001b[0mself\u001b[0m\u001b[1;33m.\u001b[0m\u001b[0m_have_unread_result\u001b[0m\u001b[1;33m(\u001b[0m\u001b[1;33m)\u001b[0m\u001b[1;33m:\u001b[0m\u001b[1;33m\u001b[0m\u001b[1;33m\u001b[0m\u001b[0m\n\u001b[0m\u001b[0;32m    895\u001b[0m             \u001b[1;32mraise\u001b[0m \u001b[0merrors\u001b[0m\u001b[1;33m.\u001b[0m\u001b[0mInterfaceError\u001b[0m\u001b[1;33m(\u001b[0m\u001b[1;34m\"No result set to fetch from.\"\u001b[0m\u001b[1;33m)\u001b[0m\u001b[1;33m\u001b[0m\u001b[1;33m\u001b[0m\u001b[0m\n\u001b[0;32m    896\u001b[0m         \u001b[1;33m(\u001b[0m\u001b[0mrows\u001b[0m\u001b[1;33m,\u001b[0m \u001b[0meof\u001b[0m\u001b[1;33m)\u001b[0m \u001b[1;33m=\u001b[0m \u001b[0mself\u001b[0m\u001b[1;33m.\u001b[0m\u001b[0m_connection\u001b[0m\u001b[1;33m.\u001b[0m\u001b[0mget_rows\u001b[0m\u001b[1;33m(\u001b[0m\u001b[1;33m)\u001b[0m\u001b[1;33m\u001b[0m\u001b[1;33m\u001b[0m\u001b[0m\n",
      "\u001b[1;32me:\\anaconda_python\\envs\\py37\\lib\\site-packages\\mysql\\connector\\cursor.py\u001b[0m in \u001b[0;36m_have_unread_result\u001b[1;34m(self)\u001b[0m\n\u001b[0;32m    364\u001b[0m         \u001b[1;34m\"\"\"Check whether there is an unread result\"\"\"\u001b[0m\u001b[1;33m\u001b[0m\u001b[1;33m\u001b[0m\u001b[0m\n\u001b[0;32m    365\u001b[0m         \u001b[1;32mtry\u001b[0m\u001b[1;33m:\u001b[0m\u001b[1;33m\u001b[0m\u001b[1;33m\u001b[0m\u001b[0m\n\u001b[1;32m--> 366\u001b[1;33m             \u001b[1;32mreturn\u001b[0m \u001b[0mself\u001b[0m\u001b[1;33m.\u001b[0m\u001b[0m_connection\u001b[0m\u001b[1;33m.\u001b[0m\u001b[0munread_result\u001b[0m\u001b[1;33m\u001b[0m\u001b[1;33m\u001b[0m\u001b[0m\n\u001b[0m\u001b[0;32m    367\u001b[0m         \u001b[1;32mexcept\u001b[0m \u001b[0mAttributeError\u001b[0m\u001b[1;33m:\u001b[0m\u001b[1;33m\u001b[0m\u001b[1;33m\u001b[0m\u001b[0m\n\u001b[0;32m    368\u001b[0m             \u001b[1;32mreturn\u001b[0m \u001b[1;32mFalse\u001b[0m\u001b[1;33m\u001b[0m\u001b[1;33m\u001b[0m\u001b[0m\n",
      "\u001b[1;31mReferenceError\u001b[0m: weakly-referenced object no longer exists"
     ]
    }
   ],
   "source": [
    "adsf.users()"
   ]
  },
  {
   "cell_type": "code",
   "execution_count": 1,
   "metadata": {},
   "outputs": [
    {
     "name": "stdout",
     "output_type": "stream",
     "text": [
      "[(1, None, 'test product', 1111.0, 11.0, 11.0, None, '0110101110', 'http:/test.com'), (5, None, 'test product2', 1111.0, 11.0, 11.0, None, '010101101110', 'https://test_img.com')]\n"
     ]
    }
   ],
   "source": [
    "import mysql.connector\n",
    "class Database:\n",
    "    def __init__(self,username,password,hostname,database,ip):\n",
    "        self.username = username\n",
    "        self.password = password\n",
    "        self.hostname = hostname\n",
    "        self.database= database\n",
    "        self.ip = ip\n",
    "        self.connection = mysql.connector.connect(user=username, password=password, host=hostname, database=database)\n",
    "        self.cursor = self.connection.cursor()\n",
    "\n",
    "    def connection_to_db(self,username,password,hostname,database,ip):\n",
    "        self.username = username\n",
    "        self.password = password\n",
    "        self.hostname = hostname\n",
    "        self.database= database\n",
    "        self.ip = ip\n",
    "        self.connection = mysql.connector.connect(user=username, password=password, host=hostname, database=database)\n",
    "        self.cursor = self.connection.cursor()\n",
    "\n",
    "    def select_query(self, sql_querry):\n",
    "        self.cursor.execute(sql_querry)\n",
    "        result = self.cursor.fetchall()\n",
    "        print(result)\n",
    "        return result\n",
    "\n",
    "    def insert_query(self, sql_querry):\n",
    "        self.cursor.execute(sql_querry)\n",
    "        print(\"Inserted\",self.cursor.rowcount,\"row(s) of data.\")\n",
    "\n",
    "\n",
    "    def close(self):\n",
    "        self.connection.commit()\n",
    "        self.cursor.close()\n",
    "        self.connection.close()\n",
    "\n",
    "# Example usage:\n",
    "\n",
    "username = \"SeniorDeveloper\"\n",
    "password = \"134697825/*-qweQWE\"\n",
    "ip = \"87.246.193.76\"\n",
    "hostname = \"food-app-server.mysql.database.azure.com\"\n",
    "ssl_mode = \"require\"\n",
    "database = \"FoodTracker\"\n",
    "\n",
    "db = Database(username,password,hostname,database,ip)\n",
    "# db.insert_query(\"insert into products (user_id, product_name, calories, protein, fat, carbohydrates, barcode, img_url) values({},\\\"{}\\\",{},{},{},{},\\\"{}\\\",\\\"{}\\\");\".format(\"NULL\",\"test product2\",1111,11,11,\"NULL\",\"010101101110\",\"https://test_img.com\"))         \n",
    "db.select_query(\"SELECT * FROM PRODUCTS\")\n",
    "db.close()"
   ]
  },
  {
   "cell_type": "code",
   "execution_count": null,
   "metadata": {},
   "outputs": [],
   "source": []
  },
  {
   "cell_type": "code",
   "execution_count": null,
   "metadata": {},
   "outputs": [],
   "source": []
  },
  {
   "cell_type": "code",
   "execution_count": null,
   "metadata": {},
   "outputs": [],
   "source": []
  }
 ],
 "metadata": {
  "kernelspec": {
   "display_name": "py37",
   "language": "python",
   "name": "python3"
  },
  "language_info": {
   "codemirror_mode": {
    "name": "ipython",
    "version": 3
   },
   "file_extension": ".py",
   "mimetype": "text/x-python",
   "name": "python",
   "nbconvert_exporter": "python",
   "pygments_lexer": "ipython3",
   "version": "3.7.5"
  },
  "orig_nbformat": 4,
  "vscode": {
   "interpreter": {
    "hash": "6826b87d53c68e5244b313fe535d5de046e1951908f72025941be769c6024597"
   }
  }
 },
 "nbformat": 4,
 "nbformat_minor": 2
}
