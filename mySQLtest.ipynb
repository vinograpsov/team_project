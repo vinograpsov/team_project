{
 "cells": [
  {
   "cell_type": "code",
   "execution_count": 2,
   "metadata": {},
   "outputs": [],
   "source": [
    "import mysql.connector\n",
    "from mysql.connector import errorcode"
   ]
  },
  {
   "cell_type": "code",
   "execution_count": 3,
   "metadata": {},
   "outputs": [],
   "source": [
    "username = \"SeniorDeveloper\"\n",
    "password = \"134697825/*-qweQWE\"\n",
    "ip = \"87.246.193.76\"\n",
    "hostname = \"food-app-server.mysql.database.azure.com\"\n",
    "ssl_mode = \"require\"\n",
    "database = \"FoodTracker\""
   ]
  },
  {
   "cell_type": "code",
   "execution_count": 4,
   "metadata": {},
   "outputs": [],
   "source": []
  },
  {
   "cell_type": "code",
   "execution_count": 15,
   "metadata": {},
   "outputs": [
    {
     "name": "stdout",
     "output_type": "stream",
     "text": [
      "Connection established\n"
     ]
    }
   ],
   "source": [
    "try:\n",
    "   conn = mysql.connector.connect(**config)\n",
    "   print(\"Connection established\")\n",
    "except mysql.connector.Error as err:\n",
    "  if err.errno == errorcode.ER_ACCESS_DENIED_ERROR:\n",
    "    print(\"Something is wrong with the user name or password\")\n",
    "  elif err.errno == errorcode.ER_BAD_DB_ERROR:\n",
    "    print(\"Database does not exist\")\n",
    "  else:\n",
    "    print(err)\n",
    "else:\n",
    "  cursor = conn.cursor()"
   ]
  },
  {
   "cell_type": "code",
   "execution_count": 11,
   "metadata": {},
   "outputs": [
    {
     "name": "stdout",
     "output_type": "stream",
     "text": [
      "Inserted 1 row(s) of data.\n"
     ]
    }
   ],
   "source": [
    "new data to users\n",
    "\n",
    "cursor.execute(\"insert into users (username,email,usr_password,age,weight,height,sex,activity_level,img_url) values (%s,%s,%s,%s,%s,%s,%s,%s,%s);\",(\"test\",\"test@test.test\",\"123456789\",18,70,180,\"male\",\"superman\",\"https://static.javatpoint.com/computer/images/what-is-the-url.png\"))\n",
    "print(\"Inserted\",cursor.rowcount,\"row(s) of data.\")\n"
   ]
  },
  {
   "cell_type": "code",
   "execution_count": 21,
   "metadata": {},
   "outputs": [],
   "source": [
    "cursor.execute(\"SELECT * FROM USERS;\")"
   ]
  },
  {
   "cell_type": "code",
   "execution_count": 22,
   "metadata": {},
   "outputs": [
    {
     "name": "stdout",
     "output_type": "stream",
     "text": [
      "Read 1 row(s) of data.\n",
      "Data row = (1, test, test@test.test,123456789, 18, 70.0,180.0, male, superman, https://static.javatpoint.com/computer/images/what-is-the-url.png)\n"
     ]
    }
   ],
   "source": [
    "rows = cursor.fetchall()\n",
    "print(\"Read\",cursor.rowcount,\"row(s) of data.\")\n",
    "for row in rows:\n",
    "    print(\"Data row = (%s, %s, %s,%s, %s, %s,%s, %s, %s, %s)\" %(str(row[0]), str(row[1]), str(row[2]),str(row[3]), str(row[4]), str(row[5]),str(row[6]), str(row[7]), str(row[8]), str(row[9])))"
   ]
  },
  {
   "cell_type": "code",
   "execution_count": 14,
   "metadata": {},
   "outputs": [
    {
     "name": "stdout",
     "output_type": "stream",
     "text": [
      "Done.\n"
     ]
    }
   ],
   "source": [
    "# Cleanup\n",
    "conn.commit()\n",
    "cursor.close()\n",
    "conn.close()\n",
    "print(\"Done.\")"
   ]
  },
  {
   "cell_type": "code",
   "execution_count": 57,
   "metadata": {},
   "outputs": [],
   "source": [
    "class Database:\n",
    "  \n",
    "  cursor = None\n",
    "\n",
    "  def __init__(self,username,password,hostname,database,ip):\n",
    "    self.connection(username,password,hostname,database,ip)\n",
    "\n",
    "  def connection (self,username,password,hostname,database,ip): \n",
    "      config = {\n",
    "        'host':hostname,\n",
    "        'user':username,\n",
    "        'password':password,\n",
    "        'database': database\n",
    "      }\n",
    "      try:\n",
    "         conn = mysql.connector.connect(**config)\n",
    "         print(\"Connection established\")\n",
    "      except mysql.connector.Error as err:\n",
    "        if err.errno == errorcode.ER_ACCESS_DENIED_ERROR:\n",
    "          print(\"Something is wrong with the user name or password\")\n",
    "        elif err.errno == errorcode.ER_BAD_DB_ERROR:\n",
    "          print(\"Database does not exist\")\n",
    "        else:\n",
    "          print(err)\n",
    "      else:\n",
    "        cursor = conn.cursor()        \n",
    "  \n",
    "\n",
    "  def disconnect(self):\n",
    "    conn.commit()\n",
    "    cursor.close()\n",
    "    conn.close()\n",
    "    print(\"Done.\")\n",
    "\n",
    "  \n",
    "  class Insert:\n",
    "    def user(username,email,usr_password,age,weight,height,sex,activity_level,img_url):\n",
    "      cursor.execute(\"insert into users (username,email,usr_password,age,weight,height,sex,activity_level,img_url) values (%s,%s,%s,%s,%s,%s,%s,%s,%s);\", \n",
    "      (username,email,usr_password,age,weight,height,sex,activity_level,img_url))\n",
    "      print(\"Inserted\",cursor.rowcount,\"row(s) of data.\")\n",
    "    def recipe(user_id,name,recepe_text,rate,annotation,img_url):\n",
    "      cursor.execute(\"insert into recipes(user_id,name,recepe_text,rate,annotation,img_url) values(%s,%s,%s,%s,%s,%s);\",\n",
    "      (user_id,name,recepe_text,rate,annotation,img_url))\n",
    "      print(\"Inserted\",cursor.rowcount,\"row(s) of data.\")\n",
    "    def product(user_id,product_name,calories,protein,fat,carbohydrates,barcode,img_url):\n",
    "      cursor.execute(\"insert into products(user_id,product_name,calories,protein,fat,carbohydrates,barcode,img_url) values(%s,%s,%s,%s,%s,%s,%s,%s);\",\n",
    "      (user_id,product_name,calories,protein,fat,carbohydrates,barcode,img_url))\n",
    "    def recipe_product(product_id,recipe_id):\n",
    "      cursor.execute(\"insert into recipes_products(product_id,recipe_id) values(%s,%s);\",\n",
    "      (product_id,recipe_id))\n",
    "    def fridge(product_id,user_id,location,expire_data,weight,how_much):\n",
    "      cursor.execute(\"insert into fridge(product_id,user_id,location,expire_data,weight,how_much) values(%s,%s,%s,%s,%s,%s);\",\n",
    "      (product_id,user_id,location,expire_data,weight,how_much))\n",
    "    def finance(user_id,cost_type,money_spend,date_of_buy):\n",
    "      cursor.execute(\"insert into finances(user_id,cost_type,money_spend,date_of_buy) values(%s,%s,%s,%s);\",\n",
    "      (user_id,cost_type,money_spend,date_of_buy))\n",
    "    def element(user_id,date_usr,calories,protein,fat,carbohydrates):\n",
    "      cursor.execute(\"insert into elements(user_id,date_usr,calories,protein,fat,carbohydrates) values(%s,%s,%s,%s,%s,%s);\",\n",
    "      (user_id,date_usr,calories,protein,fat,carbohydrates))\n",
    "\n",
    "  class Update:\n",
    "    pass\n",
    "\n",
    "  class Select:\n",
    "\n",
    "    class All:\n",
    "      def users():\n",
    "        pass\n",
    "      def elements():\n",
    "        pass\n",
    "      def fridges():\n",
    "        pass\n",
    "      def product():\n",
    "        pass\n",
    "      def recipe():\n",
    "        pass\n",
    "      def finance():\n",
    "        pass\n",
    "      def reciped_products():\n",
    "        pass\n",
    "    \n",
    "    class User:\n",
    "      def id(username):\n",
    "        \n",
    "      def pass_data(username):\n",
    "        pass\n",
    "      def frige(username):\n",
    "        pass\n",
    "      def products(username):\n",
    "        pass\n",
    "      def recepes(username):\n",
    "        pass\n",
    "      def element(username):\n",
    "        pass\n",
    "    \n",
    "\n",
    "    class Products:\n",
    "      pass\n",
    "\n",
    "    class Recepes:\n",
    "      pass\n",
    "\n",
    "\n"
   ]
  },
  {
   "cell_type": "code",
   "execution_count": 58,
   "metadata": {},
   "outputs": [],
   "source": [
    "username = \"SeniorDeveloper\"\n",
    "password = \"134697825/*-qweQWE\"\n",
    "ip = \"87.246.193.76\"\n",
    "hostname = \"food-app-server.mysql.database.azure.com\"\n",
    "ssl_mode = \"require\"\n",
    "database = \"FoodTracker\""
   ]
  },
  {
   "cell_type": "code",
   "execution_count": 59,
   "metadata": {},
   "outputs": [
    {
     "name": "stdout",
     "output_type": "stream",
     "text": [
      "Connection established\n"
     ]
    }
   ],
   "source": [
    "adsf = Database(username,password,hostname,database,ip)\n"
   ]
  },
  {
   "cell_type": "code",
   "execution_count": 55,
   "metadata": {},
   "outputs": [
    {
     "name": "stdout",
     "output_type": "stream",
     "text": [
      "hi\n"
     ]
    }
   ],
   "source": [
    "adsf.Insert.product()"
   ]
  },
  {
   "cell_type": "code",
   "execution_count": null,
   "metadata": {},
   "outputs": [],
   "source": []
  }
 ],
 "metadata": {
  "kernelspec": {
   "display_name": "py37",
   "language": "python",
   "name": "python3"
  },
  "language_info": {
   "codemirror_mode": {
    "name": "ipython",
    "version": 3
   },
   "file_extension": ".py",
   "mimetype": "text/x-python",
   "name": "python",
   "nbconvert_exporter": "python",
   "pygments_lexer": "ipython3",
   "version": "3.7.16"
  },
  "orig_nbformat": 4,
  "vscode": {
   "interpreter": {
    "hash": "6826b87d53c68e5244b313fe535d5de046e1951908f72025941be769c6024597"
   }
  }
 },
 "nbformat": 4,
 "nbformat_minor": 2
}
