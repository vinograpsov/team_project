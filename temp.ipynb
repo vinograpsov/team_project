{
 "cells": [
  {
   "cell_type": "code",
   "execution_count": null,
   "metadata": {},
   "outputs": [],
   "source": []
  }
 ],
 "metadata": {
  "kernelspec": {
   "display_name": "base",
   "language": "python",
   "name": "python3"
  },
  "language_info": {
   "name": "python",
   "version": "3.9.13 (main, Aug 25 2022, 23:51:50) [MSC v.1916 64 bit (AMD64)]"
  },
  "orig_nbformat": 4,
  "vscode": {
   "interpreter": {
    "hash": "009398bf9be23d493b7b44a6bcfef4c89cf361a9155ea22c3da35780fe0e3832"
   }
  }
 },
 "nbformat": 4,
 "nbformat_minor": 2
}
